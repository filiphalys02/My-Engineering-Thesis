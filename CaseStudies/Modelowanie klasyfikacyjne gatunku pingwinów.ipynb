{
 "cells": [
  {
   "cell_type": "markdown",
   "metadata": {},
   "source": [
    "## Załącznik do projektu inżynierskiego - Modelowanie klasyfikacyjne gatunków pingwinów"
   ]
  },
  {
   "cell_type": "markdown",
   "metadata": {},
   "source": [
    "#### 1. Import niezbędnych pakietów, w tym niezbędnych podmodułów `datamining`"
   ]
  },
  {
   "cell_type": "code",
   "execution_count": 114,
   "metadata": {},
   "outputs": [],
   "source": [
    "import pandas as pd\n",
    "from sklearn.utils import shuffle\n",
    "from datamining.check import check_numeric_data, check_category_data\n",
    "from datamining.preprocessing import handle_missing_categories\n",
    "from datamining.classification import BestClassification"
   ]
  },
  {
   "cell_type": "markdown",
   "metadata": {},
   "source": [
    "#### 2. Import danych `penguins_size.csv`"
   ]
  },
  {
   "cell_type": "code",
   "execution_count": 4,
   "metadata": {},
   "outputs": [],
   "source": [
    "penguins = pd.read_csv('C:/My-Engineering-Thesis/CaseStudies/penguins_size.csv')"
   ]
  },
  {
   "cell_type": "markdown",
   "metadata": {},
   "source": [
    "#### 3. Wyświetlenie danych"
   ]
  },
  {
   "cell_type": "code",
   "execution_count": 5,
   "metadata": {},
   "outputs": [
    {
     "name": "stdout",
     "output_type": "stream",
     "text": [
      "  species     island  culmen_length_mm  culmen_depth_mm  flipper_length_mm  \\\n",
      "0  Adelie  Torgersen              39.1             18.7              181.0   \n",
      "1  Adelie  Torgersen              39.5             17.4              186.0   \n",
      "2  Adelie  Torgersen              40.3             18.0              195.0   \n",
      "3  Adelie  Torgersen               NaN              NaN                NaN   \n",
      "4  Adelie  Torgersen              36.7             19.3              193.0   \n",
      "\n",
      "   body_mass_g     sex  \n",
      "0       3750.0    MALE  \n",
      "1       3800.0  FEMALE  \n",
      "2       3250.0  FEMALE  \n",
      "3          NaN     NaN  \n",
      "4       3450.0  FEMALE  \n"
     ]
    }
   ],
   "source": [
    "print(penguins.head())"
   ]
  },
  {
   "cell_type": "markdown",
   "metadata": {},
   "source": [
    "#### 4. Podejrzenie podstawowych statystyk i informacji o kolumnach typu numerycznego i kategorycznego wykorzystując metody `check_numeric_data` i `check_category_data` z pakietu `datamining`"
   ]
  },
  {
   "cell_type": "code",
   "execution_count": 7,
   "metadata": {},
   "outputs": [
    {
     "data": {
      "text/html": [
       "<div>\n",
       "<style scoped>\n",
       "    .dataframe tbody tr th:only-of-type {\n",
       "        vertical-align: middle;\n",
       "    }\n",
       "\n",
       "    .dataframe tbody tr th {\n",
       "        vertical-align: top;\n",
       "    }\n",
       "\n",
       "    .dataframe thead th {\n",
       "        text-align: right;\n",
       "    }\n",
       "</style>\n",
       "<table border=\"1\" class=\"dataframe\">\n",
       "  <thead>\n",
       "    <tr style=\"text-align: right;\">\n",
       "      <th></th>\n",
       "      <th>NAME</th>\n",
       "      <th>TYPE</th>\n",
       "      <th>MIS</th>\n",
       "      <th>AVG</th>\n",
       "      <th>Q25</th>\n",
       "      <th>MED</th>\n",
       "      <th>Q75</th>\n",
       "      <th>IQR</th>\n",
       "      <th>MIN</th>\n",
       "      <th>MAX</th>\n",
       "      <th>RAN</th>\n",
       "      <th>STD</th>\n",
       "      <th>SUM</th>\n",
       "      <th>LOW OUT</th>\n",
       "      <th>UPP OUT</th>\n",
       "    </tr>\n",
       "  </thead>\n",
       "  <tbody>\n",
       "    <tr>\n",
       "      <th>0</th>\n",
       "      <td>culmen_length_mm</td>\n",
       "      <td>float64</td>\n",
       "      <td>2</td>\n",
       "      <td>43.9</td>\n",
       "      <td>39.2</td>\n",
       "      <td>44.5</td>\n",
       "      <td>48.5</td>\n",
       "      <td>9.3</td>\n",
       "      <td>32.1</td>\n",
       "      <td>59.6</td>\n",
       "      <td>27.5</td>\n",
       "      <td>5.5</td>\n",
       "      <td>15021.3</td>\n",
       "      <td>0</td>\n",
       "      <td>0</td>\n",
       "    </tr>\n",
       "    <tr>\n",
       "      <th>1</th>\n",
       "      <td>culmen_depth_mm</td>\n",
       "      <td>float64</td>\n",
       "      <td>2</td>\n",
       "      <td>17.2</td>\n",
       "      <td>15.6</td>\n",
       "      <td>17.3</td>\n",
       "      <td>18.7</td>\n",
       "      <td>3.1</td>\n",
       "      <td>13.1</td>\n",
       "      <td>21.5</td>\n",
       "      <td>8.4</td>\n",
       "      <td>2.0</td>\n",
       "      <td>5865.7</td>\n",
       "      <td>0</td>\n",
       "      <td>0</td>\n",
       "    </tr>\n",
       "    <tr>\n",
       "      <th>2</th>\n",
       "      <td>flipper_length_mm</td>\n",
       "      <td>float64</td>\n",
       "      <td>2</td>\n",
       "      <td>200.9</td>\n",
       "      <td>190.0</td>\n",
       "      <td>197.0</td>\n",
       "      <td>213.0</td>\n",
       "      <td>23.0</td>\n",
       "      <td>172.0</td>\n",
       "      <td>231.0</td>\n",
       "      <td>59.0</td>\n",
       "      <td>14.1</td>\n",
       "      <td>68713.0</td>\n",
       "      <td>0</td>\n",
       "      <td>0</td>\n",
       "    </tr>\n",
       "    <tr>\n",
       "      <th>3</th>\n",
       "      <td>body_mass_g</td>\n",
       "      <td>float64</td>\n",
       "      <td>2</td>\n",
       "      <td>4201.8</td>\n",
       "      <td>3550.0</td>\n",
       "      <td>4050.0</td>\n",
       "      <td>4750.0</td>\n",
       "      <td>1200.0</td>\n",
       "      <td>2700.0</td>\n",
       "      <td>6300.0</td>\n",
       "      <td>3600.0</td>\n",
       "      <td>802.0</td>\n",
       "      <td>1437000.0</td>\n",
       "      <td>0</td>\n",
       "      <td>0</td>\n",
       "    </tr>\n",
       "  </tbody>\n",
       "</table>\n",
       "</div>"
      ],
      "text/plain": [
       "                NAME     TYPE  MIS     AVG     Q25     MED     Q75     IQR  \\\n",
       "0   culmen_length_mm  float64    2    43.9    39.2    44.5    48.5     9.3   \n",
       "1    culmen_depth_mm  float64    2    17.2    15.6    17.3    18.7     3.1   \n",
       "2  flipper_length_mm  float64    2   200.9   190.0   197.0   213.0    23.0   \n",
       "3        body_mass_g  float64    2  4201.8  3550.0  4050.0  4750.0  1200.0   \n",
       "\n",
       "      MIN     MAX     RAN    STD        SUM  LOW OUT  UPP OUT  \n",
       "0    32.1    59.6    27.5    5.5    15021.3        0        0  \n",
       "1    13.1    21.5     8.4    2.0     5865.7        0        0  \n",
       "2   172.0   231.0    59.0   14.1    68713.0        0        0  \n",
       "3  2700.0  6300.0  3600.0  802.0  1437000.0        0        0  "
      ]
     },
     "execution_count": 7,
     "metadata": {},
     "output_type": "execute_result"
    }
   ],
   "source": [
    "check_numeric_data(df=penguins, use=True)"
   ]
  },
  {
   "cell_type": "code",
   "execution_count": 10,
   "metadata": {},
   "outputs": [
    {
     "data": {
      "text/html": [
       "<div>\n",
       "<style scoped>\n",
       "    .dataframe tbody tr th:only-of-type {\n",
       "        vertical-align: middle;\n",
       "    }\n",
       "\n",
       "    .dataframe tbody tr th {\n",
       "        vertical-align: top;\n",
       "    }\n",
       "\n",
       "    .dataframe thead th {\n",
       "        text-align: right;\n",
       "    }\n",
       "</style>\n",
       "<table border=\"1\" class=\"dataframe\">\n",
       "  <thead>\n",
       "    <tr style=\"text-align: right;\">\n",
       "      <th></th>\n",
       "      <th>NAME</th>\n",
       "      <th>TYPE</th>\n",
       "      <th>MIS</th>\n",
       "      <th>UNIQUE</th>\n",
       "      <th>MODE</th>\n",
       "      <th>FREQ</th>\n",
       "      <th>FIRST</th>\n",
       "      <th>LAST</th>\n",
       "    </tr>\n",
       "  </thead>\n",
       "  <tbody>\n",
       "    <tr>\n",
       "      <th>0</th>\n",
       "      <td>species</td>\n",
       "      <td>object</td>\n",
       "      <td>0</td>\n",
       "      <td>3</td>\n",
       "      <td>Adelie</td>\n",
       "      <td>152</td>\n",
       "      <td>Adelie</td>\n",
       "      <td>Gentoo</td>\n",
       "    </tr>\n",
       "    <tr>\n",
       "      <th>1</th>\n",
       "      <td>island</td>\n",
       "      <td>object</td>\n",
       "      <td>0</td>\n",
       "      <td>3</td>\n",
       "      <td>Biscoe</td>\n",
       "      <td>168</td>\n",
       "      <td>Torgersen</td>\n",
       "      <td>Biscoe</td>\n",
       "    </tr>\n",
       "    <tr>\n",
       "      <th>2</th>\n",
       "      <td>sex</td>\n",
       "      <td>object</td>\n",
       "      <td>10</td>\n",
       "      <td>3</td>\n",
       "      <td>MALE</td>\n",
       "      <td>168</td>\n",
       "      <td>MALE</td>\n",
       "      <td>MALE</td>\n",
       "    </tr>\n",
       "  </tbody>\n",
       "</table>\n",
       "</div>"
      ],
      "text/plain": [
       "      NAME    TYPE  MIS  UNIQUE    MODE  FREQ      FIRST    LAST\n",
       "0  species  object    0       3  Adelie   152     Adelie  Gentoo\n",
       "1   island  object    0       3  Biscoe   168  Torgersen  Biscoe\n",
       "2      sex  object   10       3    MALE   168       MALE    MALE"
      ]
     },
     "execution_count": 10,
     "metadata": {},
     "output_type": "execute_result"
    }
   ],
   "source": [
    "check_category_data(df=penguins, use=True, cat_dist=False)"
   ]
  },
  {
   "cell_type": "code",
   "execution_count": 11,
   "metadata": {},
   "outputs": [
    {
     "name": "stdout",
     "output_type": "stream",
     "text": [
      "COLUMN: species\n",
      " CATEGORY  AMOUNT  PERCENTAGE  RANK\n",
      "   Adelie     152   44.186047   1.0\n",
      "   Gentoo     124   36.046512   2.0\n",
      "Chinstrap      68   19.767442   3.0\n",
      "\n",
      "\n",
      "COLUMN: island\n",
      " CATEGORY  AMOUNT  PERCENTAGE  RANK\n",
      "   Biscoe     168   48.837209   1.0\n",
      "    Dream     124   36.046512   2.0\n",
      "Torgersen      52   15.116279   3.0\n",
      "\n",
      "\n",
      "COLUMN: sex\n",
      "CATEGORY  AMOUNT  PERCENTAGE  RANK\n",
      "    MALE     168   50.299401   1.0\n",
      "  FEMALE     165   49.401198   2.0\n",
      "       .       1    0.299401   3.0\n",
      "\n",
      "\n"
     ]
    },
    {
     "data": {
      "text/plain": [
       "''"
      ]
     },
     "execution_count": 11,
     "metadata": {},
     "output_type": "execute_result"
    }
   ],
   "source": [
    "check_category_data(df=penguins, use=True, cat_dist=True)"
   ]
  },
  {
   "cell_type": "markdown",
   "metadata": {},
   "source": [
    "#### 5. Wyświetlenie rekordów z brakujacymi danymi"
   ]
  },
  {
   "cell_type": "code",
   "execution_count": 9,
   "metadata": {},
   "outputs": [
    {
     "name": "stdout",
     "output_type": "stream",
     "text": [
      "    species     island  culmen_length_mm  culmen_depth_mm  flipper_length_mm  \\\n",
      "3    Adelie  Torgersen               NaN              NaN                NaN   \n",
      "8    Adelie  Torgersen              34.1             18.1              193.0   \n",
      "9    Adelie  Torgersen              42.0             20.2              190.0   \n",
      "10   Adelie  Torgersen              37.8             17.1              186.0   \n",
      "11   Adelie  Torgersen              37.8             17.3              180.0   \n",
      "47   Adelie      Dream              37.5             18.9              179.0   \n",
      "246  Gentoo     Biscoe              44.5             14.3              216.0   \n",
      "286  Gentoo     Biscoe              46.2             14.4              214.0   \n",
      "324  Gentoo     Biscoe              47.3             13.8              216.0   \n",
      "339  Gentoo     Biscoe               NaN              NaN                NaN   \n",
      "\n",
      "     body_mass_g  sex  \n",
      "3            NaN  NaN  \n",
      "8         3475.0  NaN  \n",
      "9         4250.0  NaN  \n",
      "10        3300.0  NaN  \n",
      "11        3700.0  NaN  \n",
      "47        2975.0  NaN  \n",
      "246       4100.0  NaN  \n",
      "286       4650.0  NaN  \n",
      "324       4725.0  NaN  \n",
      "339          NaN  NaN  \n"
     ]
    }
   ],
   "source": [
    "print(penguins[penguins.isnull().any(axis=1)])"
   ]
  },
  {
   "cell_type": "markdown",
   "metadata": {},
   "source": [
    "#### 6. Usunięcie rekordów z brakującymi danymi przy użyciu metody `handle_missing_categories`"
   ]
  },
  {
   "cell_type": "code",
   "execution_count": 17,
   "metadata": {},
   "outputs": [],
   "source": [
    "penguins = handle_missing_categories(penguins, columns=['sex'], strategy='drop')"
   ]
  },
  {
   "cell_type": "markdown",
   "metadata": {},
   "source": [
    "#### 7. Wyświetlenie rekordu z wartością `.` w kolumnie `sex`"
   ]
  },
  {
   "cell_type": "code",
   "execution_count": 21,
   "metadata": {},
   "outputs": [
    {
     "data": {
      "text/html": [
       "<div>\n",
       "<style scoped>\n",
       "    .dataframe tbody tr th:only-of-type {\n",
       "        vertical-align: middle;\n",
       "    }\n",
       "\n",
       "    .dataframe tbody tr th {\n",
       "        vertical-align: top;\n",
       "    }\n",
       "\n",
       "    .dataframe thead th {\n",
       "        text-align: right;\n",
       "    }\n",
       "</style>\n",
       "<table border=\"1\" class=\"dataframe\">\n",
       "  <thead>\n",
       "    <tr style=\"text-align: right;\">\n",
       "      <th></th>\n",
       "      <th>species</th>\n",
       "      <th>island</th>\n",
       "      <th>culmen_length_mm</th>\n",
       "      <th>culmen_depth_mm</th>\n",
       "      <th>flipper_length_mm</th>\n",
       "      <th>body_mass_g</th>\n",
       "      <th>sex</th>\n",
       "    </tr>\n",
       "  </thead>\n",
       "  <tbody>\n",
       "    <tr>\n",
       "      <th>336</th>\n",
       "      <td>Gentoo</td>\n",
       "      <td>Biscoe</td>\n",
       "      <td>44.5</td>\n",
       "      <td>15.7</td>\n",
       "      <td>217.0</td>\n",
       "      <td>4875.0</td>\n",
       "      <td>.</td>\n",
       "    </tr>\n",
       "  </tbody>\n",
       "</table>\n",
       "</div>"
      ],
      "text/plain": [
       "    species  island  culmen_length_mm  culmen_depth_mm  flipper_length_mm  \\\n",
       "336  Gentoo  Biscoe              44.5             15.7              217.0   \n",
       "\n",
       "     body_mass_g sex  \n",
       "336       4875.0   .  "
      ]
     },
     "execution_count": 21,
     "metadata": {},
     "output_type": "execute_result"
    }
   ],
   "source": [
    "penguins[penguins['sex'] == '.']"
   ]
  },
  {
   "cell_type": "markdown",
   "metadata": {},
   "source": [
    "#### 8. Usunięcie rekordu z poprzedniego puntu"
   ]
  },
  {
   "cell_type": "code",
   "execution_count": 22,
   "metadata": {},
   "outputs": [],
   "source": [
    "penguins = penguins[penguins['sex'] != '.']"
   ]
  },
  {
   "cell_type": "markdown",
   "metadata": {},
   "source": [
    "#### 9. Próba utworzenia instancji klasy `BestClassification`"
   ]
  },
  {
   "cell_type": "code",
   "execution_count": 30,
   "metadata": {},
   "outputs": [
    {
     "ename": "TypeError",
     "evalue": "There is no 'species' categorical column in your Data Frame",
     "output_type": "error",
     "traceback": [
      "\u001b[1;31m---------------------------------------------------------------------------\u001b[0m",
      "\u001b[1;31mTypeError\u001b[0m                                 Traceback (most recent call last)",
      "Cell \u001b[1;32mIn[30], line 1\u001b[0m\n\u001b[1;32m----> 1\u001b[0m instance \u001b[38;5;241m=\u001b[39m \u001b[43mBestClassification\u001b[49m\u001b[43m(\u001b[49m\u001b[43mdf\u001b[49m\u001b[38;5;241;43m=\u001b[39;49m\u001b[43mpenguins\u001b[49m\u001b[43m,\u001b[49m\u001b[43m \u001b[49m\u001b[43mresponse\u001b[49m\u001b[38;5;241;43m=\u001b[39;49m\u001b[38;5;124;43m'\u001b[39;49m\u001b[38;5;124;43mspecies\u001b[39;49m\u001b[38;5;124;43m'\u001b[39;49m\u001b[43m,\u001b[49m\u001b[43m \u001b[49m\u001b[43mset_seed\u001b[49m\u001b[38;5;241;43m=\u001b[39;49m\u001b[38;5;241;43m15\u001b[39;49m\u001b[43m,\u001b[49m\u001b[43m \u001b[49m\u001b[43mdivide_method\u001b[49m\u001b[38;5;241;43m=\u001b[39;49m\u001b[38;5;124;43m'\u001b[39;49m\u001b[38;5;124;43mtrain_test\u001b[39;49m\u001b[38;5;124;43m'\u001b[39;49m\u001b[43m,\u001b[49m\u001b[43m \u001b[49m\u001b[43mtest_size\u001b[49m\u001b[38;5;241;43m=\u001b[39;49m\u001b[38;5;241;43m0.2\u001b[39;49m\u001b[43m)\u001b[49m\n",
      "File \u001b[1;32mC:\\My-Engineering-Thesis\\datamining\\classification.py:33\u001b[0m, in \u001b[0;36mBestClassification.__init__\u001b[1;34m(self, df, response, set_seed, divide_method, k, test_size)\u001b[0m\n\u001b[0;32m     30\u001b[0m \u001b[38;5;28mself\u001b[39m\u001b[38;5;241m.\u001b[39m_test_size \u001b[38;5;241m=\u001b[39m test_size\n\u001b[0;32m     32\u001b[0m \u001b[38;5;28mself\u001b[39m\u001b[38;5;241m.\u001b[39m_validate_inputs()\n\u001b[1;32m---> 33\u001b[0m \u001b[38;5;28;43mself\u001b[39;49m\u001b[38;5;241;43m.\u001b[39;49m\u001b[43m_find_best_model\u001b[49m\u001b[43m(\u001b[49m\u001b[43m)\u001b[49m\n",
      "File \u001b[1;32mC:\\My-Engineering-Thesis\\datamining\\classification.py:55\u001b[0m, in \u001b[0;36mBestClassification._find_best_model\u001b[1;34m(self)\u001b[0m\n\u001b[0;32m     53\u001b[0m     features\u001b[38;5;241m.\u001b[39mremove(\u001b[38;5;28mself\u001b[39m\u001b[38;5;241m.\u001b[39m_response)\n\u001b[0;32m     54\u001b[0m     \u001b[38;5;28;01mif\u001b[39;00m \u001b[38;5;129;01mnot\u001b[39;00m \u001b[38;5;28misinstance\u001b[39m(\u001b[38;5;28mself\u001b[39m\u001b[38;5;241m.\u001b[39m_df[\u001b[38;5;28mself\u001b[39m\u001b[38;5;241m.\u001b[39m_response]\u001b[38;5;241m.\u001b[39mdtype, pd\u001b[38;5;241m.\u001b[39mCategoricalDtype):\n\u001b[1;32m---> 55\u001b[0m         \u001b[38;5;28;01mraise\u001b[39;00m \u001b[38;5;167;01mTypeError\u001b[39;00m(\u001b[38;5;124mf\u001b[39m\u001b[38;5;124m\"\u001b[39m\u001b[38;5;124mThere is no \u001b[39m\u001b[38;5;124m'\u001b[39m\u001b[38;5;132;01m{\u001b[39;00m\u001b[38;5;28mself\u001b[39m\u001b[38;5;241m.\u001b[39m_response\u001b[38;5;132;01m}\u001b[39;00m\u001b[38;5;124m'\u001b[39m\u001b[38;5;124m categorical column in your Data Frame\u001b[39m\u001b[38;5;124m\"\u001b[39m)\n\u001b[0;32m     56\u001b[0m \u001b[38;5;28;01mexcept\u001b[39;00m \u001b[38;5;167;01mValueError\u001b[39;00m:\n\u001b[0;32m     57\u001b[0m     \u001b[38;5;28;01mraise\u001b[39;00m \u001b[38;5;167;01mValueError\u001b[39;00m(\u001b[38;5;124mf\u001b[39m\u001b[38;5;124m\"\u001b[39m\u001b[38;5;124mThere is no \u001b[39m\u001b[38;5;124m'\u001b[39m\u001b[38;5;132;01m{\u001b[39;00m\u001b[38;5;28mself\u001b[39m\u001b[38;5;241m.\u001b[39m_response\u001b[38;5;132;01m}\u001b[39;00m\u001b[38;5;124m'\u001b[39m\u001b[38;5;124m column in your Data Frame\u001b[39m\u001b[38;5;124m\"\u001b[39m)\n",
      "\u001b[1;31mTypeError\u001b[0m: There is no 'species' categorical column in your Data Frame"
     ]
    }
   ],
   "source": [
    "instance = BestClassification(df=penguins, response='species', set_seed=15, divide_method='train_test', test_size=0.2)"
   ]
  },
  {
   "cell_type": "markdown",
   "metadata": {},
   "source": [
    "#### 10. Konwersja typu danych kolumny `species` na typ kategoryczny"
   ]
  },
  {
   "cell_type": "code",
   "execution_count": 32,
   "metadata": {},
   "outputs": [],
   "source": [
    "penguins['species'] = penguins['species'].astype('category')"
   ]
  },
  {
   "cell_type": "markdown",
   "metadata": {},
   "source": [
    "#### 11. Utworzenie instancji klasy `BestClassification`, czyli takiego modelu klasyfikacyjnego, który najlepiej klasyfikuje zmienną zależną `species`"
   ]
  },
  {
   "cell_type": "code",
   "execution_count": 135,
   "metadata": {},
   "outputs": [],
   "source": [
    "instance = BestClassification(df=penguins, response='species', set_seed=47, divide_method='train_test', test_size=0.1)"
   ]
  },
  {
   "cell_type": "markdown",
   "metadata": {},
   "source": [
    "#### 12. Wyświetlenie atrybutów wykonanego modelu takich jak:\n",
    " - nazwa klasyfikatora\n",
    " - wartość miary accuracy\n",
    " - obiekt klasyfikatora z pakietu scikit-learn\n",
    " - lista przewidzianych przez klasyfikator kategorii "
   ]
  },
  {
   "cell_type": "code",
   "execution_count": 137,
   "metadata": {},
   "outputs": [
    {
     "name": "stdout",
     "output_type": "stream",
     "text": [
      "Nazwa klasyfikatora: Random Forest\n",
      "Wartość accuracy: 0.9705882352941176\n",
      "Obiekt klasy pochodzącej z pakietu scikit-learn: RandomForestClassifier()\n",
      "Lista przewidzianych kategorii: ['Chinstrap' 'Gentoo' 'Gentoo' 'Gentoo' 'Gentoo' 'Gentoo' 'Adelie'\n",
      " 'Gentoo' 'Adelie' 'Gentoo' 'Adelie' 'Adelie' 'Adelie' 'Adelie' 'Adelie'\n",
      " 'Chinstrap' 'Gentoo' 'Chinstrap' 'Adelie' 'Chinstrap' 'Adelie' 'Gentoo'\n",
      " 'Gentoo' 'Adelie' 'Adelie' 'Adelie' 'Gentoo' 'Adelie' 'Gentoo'\n",
      " 'Chinstrap' 'Chinstrap' 'Gentoo' 'Chinstrap' 'Chinstrap' 'Adelie'\n",
      " 'Adelie' 'Gentoo' 'Adelie' 'Gentoo' 'Gentoo' 'Adelie' 'Chinstrap'\n",
      " 'Adelie' 'Chinstrap' 'Gentoo' 'Adelie' 'Gentoo' 'Adelie' 'Adelie'\n",
      " 'Adelie' 'Adelie' 'Chinstrap' 'Adelie' 'Adelie' 'Adelie' 'Gentoo'\n",
      " 'Adelie' 'Adelie' 'Gentoo' 'Adelie' 'Adelie' 'Gentoo' 'Gentoo' 'Adelie'\n",
      " 'Gentoo' 'Adelie' 'Adelie' 'Adelie' 'Gentoo' 'Gentoo' 'Gentoo' 'Gentoo'\n",
      " 'Adelie' 'Gentoo' 'Chinstrap' 'Chinstrap' 'Adelie' 'Adelie' 'Gentoo'\n",
      " 'Chinstrap' 'Gentoo' 'Chinstrap' 'Adelie' 'Gentoo' 'Gentoo' 'Adelie'\n",
      " 'Adelie' 'Gentoo' 'Gentoo' 'Chinstrap' 'Adelie' 'Adelie' 'Adelie'\n",
      " 'Gentoo' 'Adelie' 'Chinstrap' 'Gentoo' 'Adelie' 'Gentoo' 'Chinstrap'\n",
      " 'Adelie' 'Gentoo' 'Gentoo' 'Adelie' 'Adelie' 'Gentoo' 'Adelie' 'Gentoo'\n",
      " 'Adelie' 'Adelie' 'Gentoo' 'Gentoo' 'Adelie' 'Adelie' 'Adelie' 'Adelie'\n",
      " 'Chinstrap' 'Adelie' 'Gentoo' 'Chinstrap' 'Gentoo' 'Chinstrap'\n",
      " 'Chinstrap' 'Gentoo' 'Gentoo' 'Adelie' 'Adelie' 'Adelie' 'Gentoo'\n",
      " 'Gentoo' 'Adelie' 'Chinstrap' 'Adelie' 'Gentoo' 'Adelie' 'Adelie'\n",
      " 'Gentoo' 'Gentoo' 'Adelie' 'Adelie' 'Chinstrap' 'Chinstrap' 'Adelie'\n",
      " 'Adelie' 'Adelie' 'Chinstrap' 'Adelie' 'Adelie' 'Gentoo' 'Gentoo'\n",
      " 'Adelie' 'Adelie' 'Gentoo' 'Gentoo' 'Adelie' 'Gentoo' 'Gentoo' 'Adelie'\n",
      " 'Adelie' 'Adelie' 'Gentoo' 'Adelie' 'Gentoo' 'Adelie' 'Chinstrap'\n",
      " 'Adelie' 'Chinstrap' 'Adelie' 'Chinstrap' 'Gentoo' 'Chinstrap'\n",
      " 'Chinstrap' 'Adelie' 'Gentoo' 'Adelie' 'Chinstrap' 'Chinstrap'\n",
      " 'Chinstrap' 'Adelie' 'Chinstrap' 'Gentoo' 'Adelie' 'Adelie' 'Adelie'\n",
      " 'Chinstrap' 'Adelie' 'Gentoo' 'Adelie' 'Gentoo' 'Gentoo' 'Adelie'\n",
      " 'Gentoo' 'Chinstrap' 'Chinstrap' 'Adelie' 'Adelie' 'Gentoo' 'Gentoo'\n",
      " 'Adelie' 'Chinstrap' 'Adelie' 'Chinstrap' 'Adelie' 'Gentoo' 'Gentoo'\n",
      " 'Gentoo' 'Chinstrap' 'Gentoo' 'Chinstrap' 'Adelie' 'Gentoo' 'Gentoo'\n",
      " 'Adelie' 'Adelie' 'Adelie' 'Chinstrap' 'Adelie' 'Adelie' 'Adelie'\n",
      " 'Adelie' 'Adelie' 'Gentoo' 'Adelie' 'Chinstrap' 'Gentoo' 'Chinstrap'\n",
      " 'Gentoo' 'Chinstrap' 'Adelie' 'Gentoo' 'Adelie' 'Adelie' 'Gentoo'\n",
      " 'Gentoo' 'Gentoo' 'Adelie' 'Adelie' 'Chinstrap' 'Adelie' 'Adelie'\n",
      " 'Gentoo' 'Gentoo' 'Chinstrap' 'Adelie' 'Chinstrap' 'Adelie' 'Adelie'\n",
      " 'Chinstrap' 'Gentoo' 'Chinstrap' 'Chinstrap' 'Adelie' 'Adelie' 'Adelie'\n",
      " 'Gentoo' 'Gentoo' 'Gentoo' 'Adelie' 'Gentoo' 'Chinstrap' 'Gentoo'\n",
      " 'Adelie' 'Gentoo' 'Adelie' 'Gentoo' 'Adelie' 'Adelie' 'Adelie' 'Gentoo'\n",
      " 'Adelie' 'Adelie' 'Adelie' 'Adelie' 'Chinstrap' 'Gentoo' 'Chinstrap'\n",
      " 'Gentoo' 'Chinstrap' 'Chinstrap' 'Adelie' 'Gentoo' 'Adelie' 'Adelie'\n",
      " 'Gentoo' 'Gentoo' 'Gentoo' 'Gentoo' 'Gentoo' 'Chinstrap' 'Gentoo'\n",
      " 'Adelie' 'Gentoo' 'Chinstrap' 'Adelie' 'Gentoo' 'Chinstrap' 'Adelie'\n",
      " 'Gentoo' 'Gentoo' 'Adelie' 'Adelie' 'Gentoo' 'Adelie' 'Chinstrap'\n",
      " 'Gentoo' 'Adelie' 'Chinstrap' 'Gentoo' 'Adelie' 'Adelie' 'Adelie'\n",
      " 'Gentoo' 'Chinstrap' 'Adelie' 'Adelie' 'Chinstrap' 'Chinstrap' 'Gentoo'\n",
      " 'Chinstrap' 'Adelie' 'Gentoo' 'Gentoo' 'Gentoo' 'Gentoo' 'Gentoo'\n",
      " 'Adelie' 'Gentoo' 'Chinstrap' 'Gentoo' 'Adelie' 'Gentoo' 'Adelie'\n",
      " 'Adelie']\n",
      "(333,)\n"
     ]
    }
   ],
   "source": [
    "print(f'Nazwa klasyfikatora: {instance.model_name}')\n",
    "print(f'Wartość accuracy: {instance.accuracy}')\n",
    "print(f'Obiekt klasy pochodzącej z pakietu scikit-learn: {instance.model}')\n",
    "print(f'Lista przewidzianych kategorii: {instance.y_pred}')"
   ]
  }
 ],
 "metadata": {
  "kernelspec": {
   "display_name": "ENV-FOR-ET",
   "language": "python",
   "name": "python3"
  },
  "language_info": {
   "codemirror_mode": {
    "name": "ipython",
    "version": 3
   },
   "file_extension": ".py",
   "mimetype": "text/x-python",
   "name": "python",
   "nbconvert_exporter": "python",
   "pygments_lexer": "ipython3",
   "version": "3.12.4"
  }
 },
 "nbformat": 4,
 "nbformat_minor": 2
}
